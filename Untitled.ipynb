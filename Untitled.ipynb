{
 "cells": [
  {
   "cell_type": "code",
   "execution_count": 1,
   "id": "e8321167-c11d-47b6-a295-d1c060f915b8",
   "metadata": {},
   "outputs": [
    {
     "name": "stderr",
     "output_type": "stream",
     "text": [
      "\u001b[32m\u001b[1m  Activating\u001b[22m\u001b[39m environment at `~/MEGA/EMAp/EmpiricalMeasure.jl/Project.toml`\n"
     ]
    }
   ],
   "source": [
    "using Pkg\n",
    "Pkg.activate(\".\")"
   ]
  },
  {
   "cell_type": "code",
   "execution_count": 2,
   "id": "89c32624-6dc8-4437-804d-723cf51ba5da",
   "metadata": {},
   "outputs": [],
   "source": [
    "using Distributions\n",
    "using ArraysOfArrays\n",
    "using LinearAlgebra"
   ]
  },
  {
   "cell_type": "code",
   "execution_count": 3,
   "id": "b9a89043-0fa6-46a5-af88-17451448b797",
   "metadata": {},
   "outputs": [],
   "source": [
    "using MeasureBase"
   ]
  },
  {
   "cell_type": "code",
   "execution_count": 4,
   "id": "91338a31-8762-47b9-8be1-6a939e85b5af",
   "metadata": {},
   "outputs": [],
   "source": [
    "using EmpiricalDistributions"
   ]
  },
  {
   "cell_type": "code",
   "execution_count": 5,
   "id": "dc544377-55b8-45a4-a785-dd30e5bc6594",
   "metadata": {},
   "outputs": [
    {
     "data": {
      "text/plain": [
       "true"
      ]
     },
     "execution_count": 5,
     "metadata": {},
     "output_type": "execute_result"
    }
   ],
   "source": [
    "using Distributions, StatsBase\n",
    "\n",
    "X_uv = rand(Normal(2.0, 0.5), 10^5)\n",
    "uvhist = fit(Histogram, X_uv)\n",
    "\n",
    "using EmpiricalDistributions\n",
    "\n",
    "uvdist = UvBinnedDist(uvhist)\n",
    "uvdist isa Distribution{Univariate,Continuous}"
   ]
  },
  {
   "cell_type": "code",
   "execution_count": 6,
   "id": "4d806162-4fe7-4b4d-ad55-2d082037818f",
   "metadata": {},
   "outputs": [
    {
     "data": {
      "text/plain": [
       "UvBinnedDist{Float64, Float64, Vector{Float64}, Vector{Float64}}(\n",
       "_edge: [-0.5, 0.0, 0.5, 1.0, 1.5, 2.0, 2.5, 3.0, 3.5, 4.0]\n",
       "_edge_cdf: [0.0, 2.0e-5, 0.0013800000000000002, 0.022449999999999998, 0.15796, 0.5015700000000001, 0.8422300000000001, 0.9775300000000001, 0.9987900000000002, 1.0]\n",
       "_bin_pdf: [4.0e-5, 0.00272, 0.04214, 0.27102, 0.68722, 0.68132, 0.2706, 0.04252, 0.00242]\n",
       "_bin_probmass: [2.0e-5, 0.00136, 0.02107, 0.13551, 0.34361, 0.34066, 0.1353, 0.02126, 0.00121]\n",
       "_closed_left: true\n",
       "_mean: 1.9990350000000001\n",
       "_mode: 1.75\n",
       "_var: 0.269209068775\n",
       ")\n"
      ]
     },
     "execution_count": 6,
     "metadata": {},
     "output_type": "execute_result"
    }
   ],
   "source": [
    "uvdist"
   ]
  },
  {
   "cell_type": "code",
   "execution_count": 7,
   "id": "655b8c8a-f29f-49eb-b268-e48c093f65fb",
   "metadata": {},
   "outputs": [
    {
     "data": {
      "text/plain": [
       "9-element CategoricalArray{String,1,UInt32}:\n",
       " \"no\"\n",
       " \"yes\"\n",
       " \"no\"\n",
       " \"maybe\"\n",
       " \"maybe\"\n",
       " \"no\"\n",
       " \"maybe\"\n",
       " \"no\"\n",
       " \"maybe\""
      ]
     },
     "execution_count": 7,
     "metadata": {},
     "output_type": "execute_result"
    }
   ],
   "source": [
    "using CategoricalDistributions\n",
    "using CategoricalArrays\n",
    "data = [\"no\", \"yes\", \"no\", \"maybe\", \"maybe\", \"no\",\n",
    "       \"maybe\", \"no\", \"maybe\"] |> categorical"
   ]
  },
  {
   "cell_type": "code",
   "execution_count": 8,
   "id": "37818ff9-2f6d-4375-8cf7-13920b0c0d7e",
   "metadata": {},
   "outputs": [
    {
     "ename": "LoadError",
     "evalue": "MethodError: no method matching CountingMeasure()\n\u001b[0mClosest candidates are:\n\u001b[0m  CountingMeasure(\u001b[91m::Any\u001b[39m) at /home/davibarreira/.julia/packages/MeasureBase/YuZEM/src/primitives/counting.jl:10",
     "output_type": "error",
     "traceback": [
      "MethodError: no method matching CountingMeasure()\n\u001b[0mClosest candidates are:\n\u001b[0m  CountingMeasure(\u001b[91m::Any\u001b[39m) at /home/davibarreira/.julia/packages/MeasureBase/YuZEM/src/primitives/counting.jl:10",
      "",
      "Stacktrace:",
      " [1] top-level scope",
      "   @ In[8]:1",
      " [2] eval",
      "   @ ./boot.jl:360 [inlined]",
      " [3] include_string(mapexpr::typeof(REPL.softscope), mod::Module, code::String, filename::String)",
      "   @ Base ./loading.jl:1116"
     ]
    }
   ],
   "source": [
    "CountingMeasure()"
   ]
  },
  {
   "cell_type": "code",
   "execution_count": 9,
   "id": "4bf1de40-60b5-49da-9c9b-a357b6b59d90",
   "metadata": {},
   "outputs": [
    {
     "data": {
      "text/plain": [
       "MeasureBase.RealNumbers()"
      ]
     },
     "execution_count": 9,
     "metadata": {},
     "output_type": "execute_result"
    }
   ],
   "source": [
    "ℤ\n",
    "ℝ"
   ]
  },
  {
   "cell_type": "code",
   "execution_count": 10,
   "id": "df77ca51-e7ab-4974-8265-e0b5055619fa",
   "metadata": {},
   "outputs": [
    {
     "data": {
      "text/plain": [
       "Real"
      ]
     },
     "execution_count": 10,
     "metadata": {},
     "output_type": "execute_result"
    }
   ],
   "source": []
  },
  {
   "cell_type": "code",
   "execution_count": null,
   "id": "5711a4e8-2f13-48ba-8d17-6d14e9caa4f8",
   "metadata": {},
   "outputs": [],
   "source": []
  },
  {
   "cell_type": "code",
   "execution_count": 15,
   "id": "de6951a9-0c7f-43e1-a434-6cbfb52178e4",
   "metadata": {},
   "outputs": [],
   "source": [
    "using KernelFunctions"
   ]
  },
  {
   "cell_type": "code",
   "execution_count": 139,
   "id": "dfa05b27-263b-4135-9804-dfc9044a60c4",
   "metadata": {},
   "outputs": [],
   "source": [
    "n = 4\n",
    "m = 2\n",
    "A = nestedview(rand(n,m)')\n",
    "p = normalize!(rand(n),1);"
   ]
  },
  {
   "cell_type": "code",
   "execution_count": 140,
   "id": "c95ada20-3194-41d1-8d15-d657449772ba",
   "metadata": {},
   "outputs": [],
   "source": [
    "import Distributions"
   ]
  },
  {
   "cell_type": "code",
   "execution_count": 158,
   "id": "9f9c2869-758a-4ab6-9b63-78b0a1ae112e",
   "metadata": {},
   "outputs": [
    {
     "data": {
      "text/plain": [
       "2-element ArrayOfSimilarArrays{Float64, 1, 1, 2, Matrix{Float64}}:\n",
       " [1.0, 1.0]\n",
       " [1.0, 1.0]"
      ]
     },
     "execution_count": 158,
     "metadata": {},
     "output_type": "execute_result"
    }
   ],
   "source": [
    "A = nestedview(ones(2,2))"
   ]
  },
  {
   "cell_type": "code",
   "execution_count": 159,
   "id": "26b71a9c-6c39-4eda-b3c6-7952f86cb506",
   "metadata": {},
   "outputs": [
    {
     "data": {
      "text/plain": [
       "2-element view(::Matrix{Float64}, :, 1) with eltype Float64:\n",
       " 1.0\n",
       " 1.0"
      ]
     },
     "execution_count": 159,
     "metadata": {},
     "output_type": "execute_result"
    }
   ],
   "source": [
    "struct MvDiscreteNonParametric{T<:Real,\n",
    "                               P<:Real,\n",
    "                               Ts<:AbstractVector{<:AbstractVector{T} where T},\n",
    "                               Ps<:AbstractVector{P}} <: DiscreteUnivariateDistribution\n",
    "    support::Ts\n",
    "    p::Ps\n",
    "\n",
    "    function MvDiscreteNonParametric{T,P,Ts,Ps}(vs::Ts, ps::Ps) where {\n",
    "            T<:Real,P<:Real,Ts<:AbstractVector{<:AbstractVector{T} where T},Ps<:AbstractVector{P}}\n",
    "        length(support) == length(p) || error(\"length of `support` and `p` must be equal\")\n",
    "        isprobvec(p) || error(\"`p` must be a probability vector\")\n",
    "        allunique(support) || error(\"`support` must contain only unique value\")\n",
    "        return new{X,P}(support, p)\n",
    "    end\n",
    "end\n"
   ]
  },
  {
   "cell_type": "code",
   "execution_count": 162,
   "id": "64e64058-40d5-4187-a69b-abe93eca500d",
   "metadata": {},
   "outputs": [
    {
     "data": {
      "text/plain": [
       "false"
      ]
     },
     "execution_count": 162,
     "metadata": {},
     "output_type": "execute_result"
    }
   ],
   "source": [
    "allunique(A)"
   ]
  },
  {
   "cell_type": "code",
   "execution_count": 123,
   "id": "63758504-c8a7-4340-8ede-b4c2ddb9af76",
   "metadata": {},
   "outputs": [
    {
     "data": {
      "text/plain": [
       "2-element VectorOfVectors{Float64, Vector{Float64}, Vector{Int64}, Vector{Tuple{}}}:\n",
       " [0.3486480100772831, 0.45589986201139876, 0.879812089906195]\n",
       " [0.4766572126856943, 0.18841296290640708]"
      ]
     },
     "execution_count": 123,
     "metadata": {},
     "output_type": "execute_result"
    }
   ],
   "source": [
    "VA = VectorOfArrays{Float64, 1}()\n",
    "\n",
    "push!(VA, rand(3))\n",
    "push!(VA, rand(2))"
   ]
  },
  {
   "cell_type": "code",
   "execution_count": null,
   "id": "6a33407e-6162-4537-b703-bd519d7a7fbc",
   "metadata": {},
   "outputs": [],
   "source": []
  },
  {
   "cell_type": "code",
   "execution_count": 138,
   "id": "5ea52e14-a9f5-4570-9d2b-b31107c5708c",
   "metadata": {},
   "outputs": [
    {
     "data": {
      "text/plain": [
       "2"
      ]
     },
     "execution_count": 138,
     "metadata": {},
     "output_type": "execute_result"
    }
   ],
   "source": [
    "length(A)"
   ]
  },
  {
   "cell_type": "code",
   "execution_count": 131,
   "id": "a3c953c8-9190-4759-84b0-27f90aeac602",
   "metadata": {},
   "outputs": [
    {
     "data": {
      "text/plain": [
       "ArrayOfSimilarArrays{Float64, 1, 1, 2, Adjoint{Float64, Matrix{Float64}}}"
      ]
     },
     "execution_count": 131,
     "metadata": {},
     "output_type": "execute_result"
    }
   ],
   "source": [
    "typeof(A)"
   ]
  },
  {
   "cell_type": "code",
   "execution_count": 133,
   "id": "fb26daa8-62d9-4b5e-88b1-c62c886a9c31",
   "metadata": {},
   "outputs": [
    {
     "data": {
      "text/plain": [
       "true"
      ]
     },
     "execution_count": 133,
     "metadata": {},
     "output_type": "execute_result"
    }
   ],
   "source": [
    "\n",
    "A isa AbstractArray{<:AbstractArray,1}\n",
    "# A isa AbstractArray{<:AbstractArray{T, 1} where T,1}\n",
    "# A isa AbstractVector{<:AbstractVector{T, 1} where T,1}\n",
    "# A isa AbstractVector{<:AbstractVector{T} where T}"
   ]
  },
  {
   "cell_type": "code",
   "execution_count": 24,
   "id": "d40ac944-5bd8-4d7c-acb6-0884bdf18715",
   "metadata": {},
   "outputs": [
    {
     "data": {
      "text/plain": [
       "RowVecs{Float64, Matrix{Float64}, SubArray{Float64, 1, Matrix{Float64}, Tuple{Int64, Base.Slice{Base.OneTo{Int64}}}, true}}"
      ]
     },
     "execution_count": 24,
     "metadata": {},
     "output_type": "execute_result"
    }
   ],
   "source": [
    "typeof(RowVecs(rand(n,m)))"
   ]
  },
  {
   "cell_type": "code",
   "execution_count": 49,
   "id": "5503056a-c38f-4e4f-86b0-8e0b494952de",
   "metadata": {},
   "outputs": [
    {
     "data": {
      "text/plain": [
       "2-element Vector{DiscreteNonParametric{Float64, Float64, Vector{Float64}, Vector{Float64}}}:\n",
       " DiscreteNonParametric{Float64, Float64, Vector{Float64}, Vector{Float64}}(\n",
       "support: [0.06326966072999585, 0.21048638898380645, 0.2251721735345633, 0.29505915049097586, 0.37107682628793004, 0.5757105959802942, 0.6069753820540187, 0.6092725606897658, 0.7155218860316817, 0.845787559788957]\n",
       "p: [0.06306584145573822, 0.15214004633880754, 0.04295834838704755, 0.10653139714261316, 0.09931006578394384, 0.17543255166219063, 0.11694870657992887, 0.08458734043172937, 0.008093229869804824, 0.15093247234819582]\n",
       ")\n",
       "\n",
       " DiscreteNonParametric{Float64, Float64, Vector{Float64}, Vector{Float64}}(\n",
       "support: [0.09800316461355685, 0.37117214781994545, 0.39891522612598895, 0.41063775331331187, 0.5484921099909879, 0.6043909121859143, 0.6907683933951041, 0.8166934765420022, 0.8524560833270425, 0.946284781091038]\n",
       "p: [0.11694870657992887, 0.08458734043172937, 0.09931006578394384, 0.10653139714261316, 0.04295834838704755, 0.15214004633880754, 0.06306584145573822, 0.17543255166219063, 0.15093247234819582, 0.008093229869804824]\n",
       ")\n"
      ]
     },
     "execution_count": 49,
     "metadata": {},
     "output_type": "execute_result"
    }
   ],
   "source": [
    "μ = [DiscreteNonParametric(A[i][:],p) for i in 1:m]"
   ]
  },
  {
   "cell_type": "code",
   "execution_count": 47,
   "id": "09546497-57a0-4770-a67a-e00a878b0815",
   "metadata": {},
   "outputs": [
    {
     "data": {
      "text/plain": [
       "10-element Vector{Float64}:\n",
       " 0.06326966072999585\n",
       " 0.21048638898380645\n",
       " 0.2251721735345633\n",
       " 0.29505915049097586\n",
       " 0.37107682628793004\n",
       " 0.5757105959802942\n",
       " 0.6069753820540187\n",
       " 0.6092725606897658\n",
       " 0.7155218860316817\n",
       " 0.845787559788957"
      ]
     },
     "execution_count": 47,
     "metadata": {},
     "output_type": "execute_result"
    }
   ],
   "source": [
    "[μ[1].support"
   ]
  }
 ],
 "metadata": {
  "kernelspec": {
   "display_name": "JuliaFlux 1.6.3",
   "language": "julia",
   "name": "juliaflux-1.6"
  },
  "language_info": {
   "file_extension": ".jl",
   "mimetype": "application/julia",
   "name": "julia",
   "version": "1.6.3"
  }
 },
 "nbformat": 4,
 "nbformat_minor": 5
}
