{
 "cells": [
  {
   "cell_type": "code",
   "execution_count": 1,
   "id": "1968a6e3-b220-4143-8a28-3680b6c8412a",
   "metadata": {},
   "outputs": [],
   "source": [
    "using OptimalTransport"
   ]
  },
  {
   "cell_type": "code",
   "execution_count": null,
   "id": "8c480f61-292a-4c68-9c86-819351124f2e",
   "metadata": {},
   "outputs": [],
   "source": []
  }
 ],
 "metadata": {
  "kernelspec": {
   "display_name": "JuliaFlux 1.6.3",
   "language": "julia",
   "name": "juliaflux-1.6"
  },
  "language_info": {
   "file_extension": ".jl",
   "mimetype": "application/julia",
   "name": "julia",
   "version": "1.6.3"
  }
 },
 "nbformat": 4,
 "nbformat_minor": 5
}
