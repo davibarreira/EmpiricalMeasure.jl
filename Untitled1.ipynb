{
 "cells": [
  {
   "cell_type": "code",
   "execution_count": 1,
   "id": "bbb20f09-4d03-49a5-9142-97770f227e5d",
   "metadata": {
    "tags": []
   },
   "outputs": [
    {
     "name": "stderr",
     "output_type": "stream",
     "text": [
      "\u001b[32m\u001b[1m  Activating\u001b[22m\u001b[39m environment at `~/MEGA/EMAp/FiniteDiscreteMeasure.jl/Project.toml`\n"
     ]
    }
   ],
   "source": [
    "using Pkg\n",
    "Pkg.activate(\".\")\n",
    "\n",
    "using Revise\n",
    "using Distributions\n",
    "# import Distributions\n",
    "using ArraysOfArrays\n",
    "using LinearAlgebra\n",
    "using Random"
   ]
  },
  {
   "cell_type": "code",
   "execution_count": 2,
   "id": "1d779368-8782-41bc-ae23-59fa099df82e",
   "metadata": {},
   "outputs": [
    {
     "name": "stderr",
     "output_type": "stream",
     "text": [
      "┌ Info: Precompiling FiniteDiscreteMeasure [97815211-d2e1-4849-9c09-28728ec73e5e]\n",
      "└ @ Base loading.jl:1342\n"
     ]
    }
   ],
   "source": [
    "using FiniteDiscreteMeasure"
   ]
  },
  {
   "cell_type": "code",
   "execution_count": 3,
   "id": "9f5f4401-1c15-4762-bd05-fa218b93d9d6",
   "metadata": {},
   "outputs": [],
   "source": [
    "n = 4\n",
    "m = 2\n",
    "A = nestedview(rand(n,m)')\n",
    "p = normalize!(rand(n),1);"
   ]
  },
  {
   "cell_type": "code",
   "execution_count": 4,
   "id": "e1e9f01b-60db-47a7-980b-7cc60c310c71",
   "metadata": {},
   "outputs": [
    {
     "data": {
      "text/plain": [
       "MvDiscreteNonParametric{Float64, Float64, ArrayOfSimilarArrays{Float64, 1, 1, 2, Adjoint{Float64, Matrix{Float64}}}, Vector{Float64}}(support=[[0.7851422706162228, 0.06935821159810374], [0.45183221774750737, 0.7348218412528025], [0.8290917689665926, 0.7780822851634119], [0.42006714064755446, 0.10898775421375073]], p=[0.10914414362603884, 0.21952353913121064, 0.37403276567298976, 0.2972995515697608])"
      ]
     },
     "execution_count": 4,
     "metadata": {},
     "output_type": "execute_result"
    }
   ],
   "source": [
    "μ = MvDiscreteNonParametric{Float64,Float64, typeof(A), typeof(p)}(A,p)"
   ]
  },
  {
   "cell_type": "code",
   "execution_count": 5,
   "id": "c921d360-5e3d-4fc5-a7b7-a03fdf8a8e60",
   "metadata": {},
   "outputs": [
    {
     "data": {
      "text/plain": [
       "2"
      ]
     },
     "execution_count": 5,
     "metadata": {},
     "output_type": "execute_result"
    }
   ],
   "source": [
    "length(μ)"
   ]
  },
  {
   "cell_type": "code",
   "execution_count": 6,
   "id": "26b08522-7208-4856-814b-cb0895b61994",
   "metadata": {},
   "outputs": [
    {
     "data": {
      "text/plain": [
       "MvDiscreteNonParametric{Float64, Float64, ArrayOfSimilarArrays{Float64, 1, 1, 2, Adjoint{Float64, Matrix{Float64}}}, Vector{Float64}}(support=[[0.7851422706162228, 0.06935821159810374], [0.45183221774750737, 0.7348218412528025], [0.8290917689665926, 0.7780822851634119], [0.42006714064755446, 0.10898775421375073]], p=[0.10914414362603884, 0.21952353913121064, 0.37403276567298976, 0.2972995515697608])"
      ]
     },
     "execution_count": 6,
     "metadata": {},
     "output_type": "execute_result"
    }
   ],
   "source": [
    "μ = MvDiscreteNonParametric(A,p)"
   ]
  },
  {
   "cell_type": "code",
   "execution_count": 7,
   "id": "03c20be3-7e47-45bd-b436-d27e20f45e05",
   "metadata": {},
   "outputs": [
    {
     "data": {
      "text/plain": [
       "MvDiscreteNonParametric{Float64, Float64, ArrayOfSimilarArrays{Float64, 1, 1, 2, Adjoint{Float64, Matrix{Float64}}}, Vector{Float64}}(support=[[0.7851422706162228, 0.06935821159810374], [0.45183221774750737, 0.7348218412528025], [0.8290917689665926, 0.7780822851634119], [0.42006714064755446, 0.10898775421375073]], p=[0.10914414362603884, 0.21952353913121064, 0.37403276567298976, 0.2972995515697608])"
      ]
     },
     "execution_count": 7,
     "metadata": {},
     "output_type": "execute_result"
    }
   ],
   "source": [
    "μ = discretemeasure(A,p)"
   ]
  },
  {
   "cell_type": "code",
   "execution_count": 8,
   "id": "170101da-e103-44e2-ada1-6532f3fd2978",
   "metadata": {},
   "outputs": [
    {
     "data": {
      "text/plain": [
       "MvDiscreteNonParametric{Float64, Float64, ArrayOfSimilarArrays{Float64, 1, 1, 2, Adjoint{Float64, Matrix{Float64}}}, Vector{Float64}}(\n",
       "support: [[0.47126550460598615, 0.4622357323550559], [0.5777101329243404, 0.2933120954532875], [0.5934895616332645, 0.9799258997344269], [0.006047013336575091, 0.3918231710141684], [0.05475795906907188, 0.027342524126938716], [0.7727448067216556, 0.6623837097003671], [0.3976912474227259, 0.23710335786002057], [0.3334130232895012, 0.6496547843566656], [0.2409874032360122, 0.844348898429188], [0.7445150992240506, 0.4613057591400309]]\n",
       "p: [0.1, 0.1, 0.1, 0.1, 0.1, 0.1, 0.1, 0.1, 0.1, 0.1]\n",
       ")\n"
      ]
     },
     "execution_count": 8,
     "metadata": {},
     "output_type": "execute_result"
    }
   ],
   "source": [
    "μ = MvDiscreteNonParametric(rand(10,2))"
   ]
  },
  {
   "cell_type": "code",
   "execution_count": 9,
   "id": "bd1daf5a-71d1-4dbc-9fe8-1dd5d94b2d9a",
   "metadata": {},
   "outputs": [
    {
     "data": {
      "text/plain": [
       "10-element Vector{Float64}:\n",
       " 0.1\n",
       " 0.1\n",
       " 0.1\n",
       " 0.1\n",
       " 0.1\n",
       " 0.1\n",
       " 0.1\n",
       " 0.1\n",
       " 0.1\n",
       " 0.1"
      ]
     },
     "execution_count": 9,
     "metadata": {},
     "output_type": "execute_result"
    }
   ],
   "source": [
    "FiniteDiscreteMeasure.support(μ)\n",
    "FiniteDiscreteMeasure.probs(μ)"
   ]
  },
  {
   "cell_type": "code",
   "execution_count": 10,
   "id": "de7ccc26-d852-4f37-a0d6-65fae71ceb36",
   "metadata": {},
   "outputs": [
    {
     "data": {
      "text/plain": [
       "MvDiscreteNonParametricSampler{Float64, ArrayOfSimilarArrays{Float64, 1, 1, 2, Adjoint{Float64, Matrix{Float64}}}, Distributions.AliasTable}([[0.47126550460598615, 0.4622357323550559], [0.5777101329243404, 0.2933120954532875], [0.5934895616332645, 0.9799258997344269], [0.006047013336575091, 0.3918231710141684], [0.05475795906907188, 0.027342524126938716], [0.7727448067216556, 0.6623837097003671], [0.3976912474227259, 0.23710335786002057], [0.3334130232895012, 0.6496547843566656], [0.2409874032360122, 0.844348898429188], [0.7445150992240506, 0.4613057591400309]], AliasTable with 10 entries)"
      ]
     },
     "execution_count": 10,
     "metadata": {},
     "output_type": "execute_result"
    }
   ],
   "source": [
    "s = FiniteDiscreteMeasure.sampler(μ)"
   ]
  },
  {
   "cell_type": "code",
   "execution_count": 11,
   "id": "c090f46d-5c5b-414e-b2f9-7660bb81566e",
   "metadata": {},
   "outputs": [
    {
     "data": {
      "text/plain": [
       "2×10 Matrix{Int64}:\n",
       " 0  0  0  1  1  0  0  0  1  1\n",
       " 0  0  0  1  1  0  0  0  1  1"
      ]
     },
     "execution_count": 11,
     "metadata": {},
     "output_type": "execute_result"
    }
   ],
   "source": [
    "μ = MvDiscreteNonParametric([0 0;1 1])\n",
    "rand(μ,10)"
   ]
  },
  {
   "cell_type": "code",
   "execution_count": 17,
   "id": "c70d86b0-b2d9-4a88-a837-54f6d3645371",
   "metadata": {},
   "outputs": [
    {
     "data": {
      "text/plain": [
       "Float64"
      ]
     },
     "execution_count": 17,
     "metadata": {},
     "output_type": "execute_result"
    }
   ],
   "source": [
    "p = μ.p\n",
    "S = eltype(p)\n",
    "eltype(-Inf)\n",
    "eltype(S(-Inf))"
   ]
  },
  {
   "cell_type": "code",
   "execution_count": 35,
   "id": "fa85f7ec-9c79-465c-bc67-5e63c7548231",
   "metadata": {},
   "outputs": [
    {
     "data": {
      "text/plain": [
       "-0.6931471805599453"
      ]
     },
     "execution_count": 35,
     "metadata": {},
     "output_type": "execute_result"
    }
   ],
   "source": [
    "FiniteDiscreteMeasure._logpdf(μ,μ.support[2])"
   ]
  },
  {
   "cell_type": "code",
   "execution_count": null,
   "id": "46d4a77f-82fb-4345-972b-677f672f7e5f",
   "metadata": {},
   "outputs": [],
   "source": []
  },
  {
   "cell_type": "code",
   "execution_count": null,
   "id": "ec29c018-4fca-4059-b11a-10dd38bb181d",
   "metadata": {},
   "outputs": [],
   "source": [
    "μ = discretemeasure(A,p)\n",
    "x = μ.support[2]\n",
    "length(μ)\n",
    "for i in 1:length(μ)\n",
    "    μ.support[i] == x ?  : continue\n",
    "end"
   ]
  }
 ],
 "metadata": {
  "kernelspec": {
   "display_name": "JuliaFlux 1.6.3",
   "language": "julia",
   "name": "juliaflux-1.6"
  },
  "language_info": {
   "file_extension": ".jl",
   "mimetype": "application/julia",
   "name": "julia",
   "version": "1.6.3"
  }
 },
 "nbformat": 4,
 "nbformat_minor": 5
}
