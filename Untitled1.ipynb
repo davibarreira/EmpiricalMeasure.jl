{
 "cells": [
  {
   "cell_type": "code",
   "execution_count": 79,
   "id": "bbb20f09-4d03-49a5-9142-97770f227e5d",
   "metadata": {
    "tags": []
   },
   "outputs": [
    {
     "name": "stderr",
     "output_type": "stream",
     "text": [
      "\u001b[32m\u001b[1m  Activating\u001b[22m\u001b[39m environment at `~/MEGA/EMAp/EmpiricalMeasure.jl/Project.toml`\n"
     ]
    }
   ],
   "source": [
    "using Pkg\n",
    "Pkg.activate(\".\")\n",
    "\n",
    "using BenchmarkTools\n",
    "using Revise\n",
    "using Distributions\n",
    "# import Distributions\n",
    "using ArraysOfArrays\n",
    "using LinearAlgebra\n",
    "using Random\n",
    "using StatsBase"
   ]
  },
  {
   "cell_type": "code",
   "execution_count": 7,
   "id": "1d779368-8782-41bc-ae23-59fa099df82e",
   "metadata": {},
   "outputs": [],
   "source": [
    "using EmpiricalMeasure"
   ]
  },
  {
   "cell_type": "code",
   "execution_count": 8,
   "id": "9f5f4401-1c15-4762-bd05-fa218b93d9d6",
   "metadata": {},
   "outputs": [],
   "source": [
    "n = 4\n",
    "m = 2\n",
    "A = nestedview(rand(n,m)')\n",
    "p = normalize!(rand(n),1);"
   ]
  },
  {
   "cell_type": "code",
   "execution_count": 9,
   "id": "e1e9f01b-60db-47a7-980b-7cc60c310c71",
   "metadata": {},
   "outputs": [
    {
     "data": {
      "text/plain": [
       "MvDiscreteNonParametric{Float64, Float64, ArrayOfSimilarArrays{Float64, 1, 1, 2, Adjoint{Float64, Matrix{Float64}}}, Vector{Float64}}(support=[[0.5174945034882421, 0.283045830248041], [0.5748042691317201, 0.11893814658514823], [0.177325658005814, 0.47894087168345223], [0.28733603331545376, 0.40500886843655404]], p=[0.2974428059269006, 0.18214626436023584, 0.10205837794851891, 0.4183525517643446])"
      ]
     },
     "execution_count": 9,
     "metadata": {},
     "output_type": "execute_result"
    }
   ],
   "source": [
    "μ = MvDiscreteNonParametric{Float64,Float64, typeof(A), typeof(p)}(A,p)"
   ]
  },
  {
   "cell_type": "code",
   "execution_count": 10,
   "id": "c921d360-5e3d-4fc5-a7b7-a03fdf8a8e60",
   "metadata": {},
   "outputs": [
    {
     "data": {
      "text/plain": [
       "2"
      ]
     },
     "execution_count": 10,
     "metadata": {},
     "output_type": "execute_result"
    }
   ],
   "source": [
    "length(μ)"
   ]
  },
  {
   "cell_type": "code",
   "execution_count": 11,
   "id": "26b08522-7208-4856-814b-cb0895b61994",
   "metadata": {},
   "outputs": [
    {
     "data": {
      "text/plain": [
       "MvDiscreteNonParametric{Float64, Float64, ArrayOfSimilarArrays{Float64, 1, 1, 2, Adjoint{Float64, Matrix{Float64}}}, Vector{Float64}}(support=[[0.5174945034882421, 0.283045830248041], [0.5748042691317201, 0.11893814658514823], [0.177325658005814, 0.47894087168345223], [0.28733603331545376, 0.40500886843655404]], p=[0.2974428059269006, 0.18214626436023584, 0.10205837794851891, 0.4183525517643446])"
      ]
     },
     "execution_count": 11,
     "metadata": {},
     "output_type": "execute_result"
    }
   ],
   "source": [
    "μ = MvDiscreteNonParametric(A,p)"
   ]
  },
  {
   "cell_type": "code",
   "execution_count": 12,
   "id": "03c20be3-7e47-45bd-b436-d27e20f45e05",
   "metadata": {},
   "outputs": [
    {
     "data": {
      "text/plain": [
       "MvDiscreteNonParametric{Float64, Float64, ArrayOfSimilarArrays{Float64, 1, 1, 2, Adjoint{Float64, Matrix{Float64}}}, Vector{Float64}}(support=[[0.5174945034882421, 0.283045830248041], [0.5748042691317201, 0.11893814658514823], [0.177325658005814, 0.47894087168345223], [0.28733603331545376, 0.40500886843655404]], p=[0.2974428059269006, 0.18214626436023584, 0.10205837794851891, 0.4183525517643446])"
      ]
     },
     "execution_count": 12,
     "metadata": {},
     "output_type": "execute_result"
    }
   ],
   "source": [
    "μ = empiricalmeasure(A,p)"
   ]
  },
  {
   "cell_type": "code",
   "execution_count": 13,
   "id": "170101da-e103-44e2-ada1-6532f3fd2978",
   "metadata": {},
   "outputs": [
    {
     "data": {
      "text/plain": [
       "MvDiscreteNonParametric{Float64, Float64, ArrayOfSimilarArrays{Float64, 1, 1, 2, Adjoint{Float64, Matrix{Float64}}}, Vector{Float64}}(\n",
       "support: [[0.8417930169158836, 0.48291567284394943], [0.21214853104081843, 0.11110689866267731], [0.5460728628902527, 0.024888737086104618], [0.4661242737720961, 0.9029795053543268], [0.582728986275419, 0.8871616314275628], [0.1265463414857131, 0.6314804762962336], [0.4953397928470784, 0.5737428864241527], [0.45525296049276087, 0.09625905702472992], [0.7732520166391288, 0.9407616082534571], [0.7185318843304676, 0.41546733395076174]]\n",
       "p: [0.1, 0.1, 0.1, 0.1, 0.1, 0.1, 0.1, 0.1, 0.1, 0.1]\n",
       ")\n"
      ]
     },
     "execution_count": 13,
     "metadata": {},
     "output_type": "execute_result"
    }
   ],
   "source": [
    "μ = MvDiscreteNonParametric(rand(10,2))"
   ]
  },
  {
   "cell_type": "code",
   "execution_count": 14,
   "id": "bd1daf5a-71d1-4dbc-9fe8-1dd5d94b2d9a",
   "metadata": {},
   "outputs": [
    {
     "data": {
      "text/plain": [
       "10-element Vector{Float64}:\n",
       " 0.1\n",
       " 0.1\n",
       " 0.1\n",
       " 0.1\n",
       " 0.1\n",
       " 0.1\n",
       " 0.1\n",
       " 0.1\n",
       " 0.1\n",
       " 0.1"
      ]
     },
     "execution_count": 14,
     "metadata": {},
     "output_type": "execute_result"
    }
   ],
   "source": [
    "EmpiricalMeasure.support(μ)\n",
    "EmpiricalMeasure.probs(μ)"
   ]
  },
  {
   "cell_type": "code",
   "execution_count": 15,
   "id": "c090f46d-5c5b-414e-b2f9-7660bb81566e",
   "metadata": {},
   "outputs": [
    {
     "data": {
      "text/plain": [
       "2×10 Matrix{Int64}:\n",
       " 0  1  0  1  1  1  0  0  0  1\n",
       " 0  1  0  1  1  1  0  0  0  1"
      ]
     },
     "execution_count": 15,
     "metadata": {},
     "output_type": "execute_result"
    }
   ],
   "source": [
    "μ = MvDiscreteNonParametric([0 0;1 1])\n",
    "rand(μ,10)"
   ]
  },
  {
   "cell_type": "code",
   "execution_count": 16,
   "id": "46d4a77f-82fb-4345-972b-677f672f7e5f",
   "metadata": {},
   "outputs": [
    {
     "data": {
      "text/plain": [
       "0.5"
      ]
     },
     "execution_count": 16,
     "metadata": {},
     "output_type": "execute_result"
    }
   ],
   "source": [
    "logpdf(μ,μ.support[2])\n",
    "pdf(μ,μ.support[2])"
   ]
  },
  {
   "cell_type": "code",
   "execution_count": 17,
   "id": "407b1113-41ad-46c0-81ec-52e474e7f2e1",
   "metadata": {},
   "outputs": [
    {
     "data": {
      "text/plain": [
       "MvDiscreteNonParametric{Float64, Float64, ArrayOfSimilarArrays{Float64, 1, 1, 2, Adjoint{Float64, Matrix{Float64}}}, Vector{Float64}}(\n",
       "support: [[0.12417777428814691, 0.6435273271009747], [0.8100279197909486, 0.2600056240501569], [0.9604187936006541, 0.6059660393441137], [0.17996534462669533, 0.942523803493893], [0.662886523699177, 0.8469778079681332], [0.8350449323758704, 0.7852962218535067], [0.07366542748731586, 0.6349106371244901], [0.5020999141674902, 0.5879489163657841], [0.7381470227610321, 0.45578935003088206], [0.7240526678875847, 0.9062706270400218]]\n",
       "p: [0.1, 0.1, 0.1, 0.1, 0.1, 0.1, 0.1, 0.1, 0.1, 0.1]\n",
       ")\n"
      ]
     },
     "execution_count": 17,
     "metadata": {},
     "output_type": "execute_result"
    }
   ],
   "source": [
    "μ = MvDiscreteNonParametric(rand(10,2))"
   ]
  },
  {
   "cell_type": "code",
   "execution_count": 25,
   "id": "432b2320-6af3-4ef5-9491-f38e75759e4d",
   "metadata": {},
   "outputs": [
    {
     "data": {
      "text/plain": [
       "2-element Vector{Float64}:\n",
       " 0.5610486320684916\n",
       " 0.6669216354371958"
      ]
     },
     "execution_count": 25,
     "metadata": {},
     "output_type": "execute_result"
    }
   ],
   "source": [
    "mean(μ.support,weights(μ.p))"
   ]
  },
  {
   "cell_type": "code",
   "execution_count": 44,
   "id": "0f32caef-2dcb-46fc-a262-bbbd872ded21",
   "metadata": {},
   "outputs": [
    {
     "data": {
      "text/plain": [
       "2-element Vector{Float64}:\n",
       " 0.5610486320684916\n",
       " 0.6669216354371958"
      ]
     },
     "execution_count": 44,
     "metadata": {},
     "output_type": "execute_result"
    }
   ],
   "source": [
    "mean(μ.support,ProbabilityWeights(μ.p))"
   ]
  },
  {
   "cell_type": "code",
   "execution_count": 26,
   "id": "fdb99d52-e17b-4ced-ab44-4bad8d867787",
   "metadata": {},
   "outputs": [
    {
     "data": {
      "text/plain": [
       "2-element Vector{Float64}:\n",
       " 0.5610486320684916\n",
       " 0.6669216354371958"
      ]
     },
     "execution_count": 26,
     "metadata": {},
     "output_type": "execute_result"
    }
   ],
   "source": [
    "mean(μ)"
   ]
  },
  {
   "cell_type": "code",
   "execution_count": 142,
   "id": "0f928a8d-b050-4195-a027-b19f6c1a35a8",
   "metadata": {},
   "outputs": [
    {
     "data": {
      "text/plain": [
       "2-element Vector{Float64}:\n",
       " 0.09419642538652913\n",
       " 0.04013590177866962"
      ]
     },
     "execution_count": 142,
     "metadata": {},
     "output_type": "execute_result"
    }
   ],
   "source": [
    "StatsBase.var(μ.support, ProbabilityWeights(μ.p), corrected=false)"
   ]
  },
  {
   "cell_type": "code",
   "execution_count": 143,
   "id": "0356715c-e401-4ae8-8313-73617db04741",
   "metadata": {},
   "outputs": [
    {
     "data": {
      "text/plain": [
       "2×2 Matrix{Float64}:\n",
       "  0.0941964  -0.0147813\n",
       " -0.0147813   0.0401359"
      ]
     },
     "execution_count": 143,
     "metadata": {},
     "output_type": "execute_result"
    }
   ],
   "source": [
    "cov(flatview(μ.support)', weights(μ.p),corrected=false)"
   ]
  },
  {
   "cell_type": "code",
   "execution_count": 144,
   "id": "b6c4e719-c1d0-437f-9075-c6dc4bd416b0",
   "metadata": {},
   "outputs": [
    {
     "data": {
      "text/plain": [
       "2×2 Matrix{Float64}:\n",
       "  0.0941964  -0.0147813\n",
       " -0.0147813   0.0401359"
      ]
     },
     "execution_count": 144,
     "metadata": {},
     "output_type": "execute_result"
    }
   ],
   "source": [
    "cov(μ)"
   ]
  }
 ],
 "metadata": {
  "kernelspec": {
   "display_name": "JuliaFlux 1.6.3",
   "language": "julia",
   "name": "juliaflux-1.6"
  },
  "language_info": {
   "file_extension": ".jl",
   "mimetype": "application/julia",
   "name": "julia",
   "version": "1.6.3"
  }
 },
 "nbformat": 4,
 "nbformat_minor": 5
}
