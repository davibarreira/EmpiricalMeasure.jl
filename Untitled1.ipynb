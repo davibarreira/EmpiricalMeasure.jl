{
 "cells": [
  {
   "cell_type": "code",
   "execution_count": 1,
   "id": "bbb20f09-4d03-49a5-9142-97770f227e5d",
   "metadata": {
    "tags": []
   },
   "outputs": [
    {
     "name": "stderr",
     "output_type": "stream",
     "text": [
      "\u001b[32m\u001b[1m  Activating\u001b[22m\u001b[39m environment at `~/MEGA/EMAp/FiniteDiscreteMeasure.jl/Project.toml`\n"
     ]
    }
   ],
   "source": [
    "using Pkg\n",
    "Pkg.activate(\".\")\n",
    "\n",
    "using Revise\n",
    "using Distributions\n",
    "import Distributions\n",
    "using ArraysOfArrays\n",
    "using LinearAlgebra"
   ]
  },
  {
   "cell_type": "code",
   "execution_count": 2,
   "id": "1d779368-8782-41bc-ae23-59fa099df82e",
   "metadata": {},
   "outputs": [
    {
     "name": "stderr",
     "output_type": "stream",
     "text": [
      "┌ Info: Precompiling FiniteDiscreteMeasure [97815211-d2e1-4849-9c09-28728ec73e5e]\n",
      "└ @ Base loading.jl:1342\n"
     ]
    }
   ],
   "source": [
    "using FiniteDiscreteMeasure"
   ]
  },
  {
   "cell_type": "code",
   "execution_count": 3,
   "id": "9f5f4401-1c15-4762-bd05-fa218b93d9d6",
   "metadata": {},
   "outputs": [],
   "source": [
    "n = 4\n",
    "m = 2\n",
    "A = nestedview(rand(n,m)')\n",
    "p = normalize!(rand(n),1);"
   ]
  },
  {
   "cell_type": "code",
   "execution_count": 4,
   "id": "440f528a-31d4-4393-875b-9071fdec3b4c",
   "metadata": {},
   "outputs": [
    {
     "data": {
      "text/plain": [
       "true"
      ]
     },
     "execution_count": 4,
     "metadata": {},
     "output_type": "execute_result"
    }
   ],
   "source": [
    "typeof(rand(10,2)) <: Matrix{<:Real}"
   ]
  },
  {
   "cell_type": "code",
   "execution_count": 5,
   "id": "dddfa51a-7169-4127-a3a7-bf9b8ec6467f",
   "metadata": {},
   "outputs": [
    {
     "data": {
      "text/plain": [
       "true"
      ]
     },
     "execution_count": 5,
     "metadata": {},
     "output_type": "execute_result"
    }
   ],
   "source": [
    "A isa AbstractVector{<:AbstractVector{<:Real}}"
   ]
  },
  {
   "cell_type": "code",
   "execution_count": 7,
   "id": "e1e9f01b-60db-47a7-980b-7cc60c310c71",
   "metadata": {},
   "outputs": [
    {
     "data": {
      "text/plain": [
       "MvDiscreteNonParametric{Float64, Float64, ArrayOfSimilarArrays{Float64, 1, 1, 2, Adjoint{Float64, Matrix{Float64}}}, Vector{Float64}}(support=[[0.9047365299268926, 0.02440082600010962], [0.6082524123999051, 0.2011567527726852], [0.14339160426400954, 0.173745072730213], [0.2544515027283114, 0.7104199447253114]], p=[0.22267171872226552, 0.2874879526752559, 0.13961114507399083, 0.35022918352848775])"
      ]
     },
     "execution_count": 7,
     "metadata": {},
     "output_type": "execute_result"
    }
   ],
   "source": [
    "μ = MvDiscreteNonParametric{Float64,Float64, typeof(A), typeof(p)}(A,p)"
   ]
  },
  {
   "cell_type": "code",
   "execution_count": 8,
   "id": "26b08522-7208-4856-814b-cb0895b61994",
   "metadata": {},
   "outputs": [
    {
     "data": {
      "text/plain": [
       "MvDiscreteNonParametric{Float64, Float64, ArrayOfSimilarArrays{Float64, 1, 1, 2, Adjoint{Float64, Matrix{Float64}}}, Vector{Float64}}(support=[[0.9047365299268926, 0.02440082600010962], [0.6082524123999051, 0.2011567527726852], [0.14339160426400954, 0.173745072730213], [0.2544515027283114, 0.7104199447253114]], p=[0.22267171872226552, 0.2874879526752559, 0.13961114507399083, 0.35022918352848775])"
      ]
     },
     "execution_count": 8,
     "metadata": {},
     "output_type": "execute_result"
    }
   ],
   "source": [
    "μ = MvDiscreteNonParametric(A,p)"
   ]
  },
  {
   "cell_type": "code",
   "execution_count": 9,
   "id": "03c20be3-7e47-45bd-b436-d27e20f45e05",
   "metadata": {},
   "outputs": [
    {
     "data": {
      "text/plain": [
       "MvDiscreteNonParametric{Float64, Float64, ArrayOfSimilarArrays{Float64, 1, 1, 2, Adjoint{Float64, Matrix{Float64}}}, Vector{Float64}}(support=[[0.9047365299268926, 0.02440082600010962], [0.6082524123999051, 0.2011567527726852], [0.14339160426400954, 0.173745072730213], [0.2544515027283114, 0.7104199447253114]], p=[0.22267171872226552, 0.2874879526752559, 0.13961114507399083, 0.35022918352848775])"
      ]
     },
     "execution_count": 9,
     "metadata": {},
     "output_type": "execute_result"
    }
   ],
   "source": [
    "discretemeasure(A,p)"
   ]
  },
  {
   "cell_type": "code",
   "execution_count": 11,
   "id": "170101da-e103-44e2-ada1-6532f3fd2978",
   "metadata": {},
   "outputs": [
    {
     "data": {
      "text/plain": [
       "MvDiscreteNonParametric{Float64, Float64, ArrayOfSimilarArrays{Float64, 1, 1, 2, Adjoint{Float64, Matrix{Float64}}}, Vector{Float64}}(\n",
       "support: [[0.10624194199864534, 0.6836773568050805], [0.5375439202011907, 0.5489425200336033], [0.9099021818964632, 0.17744040553165163], [0.3897821545881086, 0.11375185310101621], [0.2914076908569303, 0.15877012576144756], [0.06778448400885217, 0.12033211633675744], [0.08516633091671055, 0.4329786106119169], [0.10353749039943816, 0.30938943876436786], [0.7141469319073233, 0.7343197717010612], [0.7312303316105075, 0.7666750090497247]]\n",
       "p: [0.1, 0.1, 0.1, 0.1, 0.1, 0.1, 0.1, 0.1, 0.1, 0.1]\n",
       ")\n"
      ]
     },
     "execution_count": 11,
     "metadata": {},
     "output_type": "execute_result"
    }
   ],
   "source": [
    "MvDiscreteNonParametric(rand(10,2))"
   ]
  }
 ],
 "metadata": {
  "kernelspec": {
   "display_name": "JuliaFlux 1.6.3",
   "language": "julia",
   "name": "juliaflux-1.6"
  },
  "language_info": {
   "file_extension": ".jl",
   "mimetype": "application/julia",
   "name": "julia",
   "version": "1.6.3"
  }
 },
 "nbformat": 4,
 "nbformat_minor": 5
}
