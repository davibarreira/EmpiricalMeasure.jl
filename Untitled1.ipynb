{
 "cells": [
  {
   "cell_type": "code",
   "execution_count": 2,
   "id": "bbb20f09-4d03-49a5-9142-97770f227e5d",
   "metadata": {
    "tags": []
   },
   "outputs": [
    {
     "name": "stderr",
     "output_type": "stream",
     "text": [
      "\u001b[32m\u001b[1m  Activating\u001b[22m\u001b[39m environment at `~/MEGA/EMAp/FiniteDiscreteMeasure.jl/Project.toml`\n"
     ]
    }
   ],
   "source": [
    "using Pkg\n",
    "Pkg.activate(\".\")\n",
    "\n",
    "using Revise\n",
    "# using Distributions\n",
    "# import Distributions\n",
    "using ArraysOfArrays\n",
    "using LinearAlgebra\n",
    "using Random"
   ]
  },
  {
   "cell_type": "code",
   "execution_count": 3,
   "id": "1d779368-8782-41bc-ae23-59fa099df82e",
   "metadata": {},
   "outputs": [
    {
     "name": "stderr",
     "output_type": "stream",
     "text": [
      "┌ Info: Precompiling FiniteDiscreteMeasure [97815211-d2e1-4849-9c09-28728ec73e5e]\n",
      "└ @ Base loading.jl:1342\n"
     ]
    }
   ],
   "source": [
    "using FiniteDiscreteMeasure"
   ]
  },
  {
   "cell_type": "code",
   "execution_count": 4,
   "id": "9f5f4401-1c15-4762-bd05-fa218b93d9d6",
   "metadata": {},
   "outputs": [],
   "source": [
    "n = 4\n",
    "m = 2\n",
    "A = nestedview(rand(n,m)')\n",
    "p = normalize!(rand(n),1);"
   ]
  },
  {
   "cell_type": "code",
   "execution_count": 5,
   "id": "e1e9f01b-60db-47a7-980b-7cc60c310c71",
   "metadata": {},
   "outputs": [
    {
     "data": {
      "text/plain": [
       "MvDiscreteNonParametric{Float64, Float64, ArrayOfSimilarArrays{Float64, 1, 1, 2, Adjoint{Float64, Matrix{Float64}}}, Vector{Float64}}(support=[[0.7180183236000388, 0.7629903301667726], [0.3816859060980624, 0.24228483624652397], [0.8335648895405694, 0.6306564789450868], [0.36120476480696206, 0.8252577848365568]], p=[0.23723376945343377, 0.21361768469884507, 0.23178107320443334, 0.31736747264328785])"
      ]
     },
     "execution_count": 5,
     "metadata": {},
     "output_type": "execute_result"
    }
   ],
   "source": [
    "μ = MvDiscreteNonParametric{Float64,Float64, typeof(A), typeof(p)}(A,p)"
   ]
  },
  {
   "cell_type": "code",
   "execution_count": 6,
   "id": "c921d360-5e3d-4fc5-a7b7-a03fdf8a8e60",
   "metadata": {},
   "outputs": [
    {
     "data": {
      "text/plain": [
       "4"
      ]
     },
     "execution_count": 6,
     "metadata": {},
     "output_type": "execute_result"
    }
   ],
   "source": [
    "length(μ)"
   ]
  },
  {
   "cell_type": "code",
   "execution_count": 7,
   "id": "26b08522-7208-4856-814b-cb0895b61994",
   "metadata": {},
   "outputs": [
    {
     "data": {
      "text/plain": [
       "MvDiscreteNonParametric{Float64, Float64, ArrayOfSimilarArrays{Float64, 1, 1, 2, Adjoint{Float64, Matrix{Float64}}}, Vector{Float64}}(support=[[0.7180183236000388, 0.7629903301667726], [0.3816859060980624, 0.24228483624652397], [0.8335648895405694, 0.6306564789450868], [0.36120476480696206, 0.8252577848365568]], p=[0.23723376945343377, 0.21361768469884507, 0.23178107320443334, 0.31736747264328785])"
      ]
     },
     "execution_count": 7,
     "metadata": {},
     "output_type": "execute_result"
    }
   ],
   "source": [
    "μ = MvDiscreteNonParametric(A,p)"
   ]
  },
  {
   "cell_type": "code",
   "execution_count": 8,
   "id": "03c20be3-7e47-45bd-b436-d27e20f45e05",
   "metadata": {},
   "outputs": [
    {
     "data": {
      "text/plain": [
       "MvDiscreteNonParametric{Float64, Float64, ArrayOfSimilarArrays{Float64, 1, 1, 2, Adjoint{Float64, Matrix{Float64}}}, Vector{Float64}}(support=[[0.7180183236000388, 0.7629903301667726], [0.3816859060980624, 0.24228483624652397], [0.8335648895405694, 0.6306564789450868], [0.36120476480696206, 0.8252577848365568]], p=[0.23723376945343377, 0.21361768469884507, 0.23178107320443334, 0.31736747264328785])"
      ]
     },
     "execution_count": 8,
     "metadata": {},
     "output_type": "execute_result"
    }
   ],
   "source": [
    "μ = discretemeasure(A,p)"
   ]
  },
  {
   "cell_type": "code",
   "execution_count": 9,
   "id": "170101da-e103-44e2-ada1-6532f3fd2978",
   "metadata": {},
   "outputs": [
    {
     "data": {
      "text/plain": [
       "MvDiscreteNonParametric{Float64, Float64, ArrayOfSimilarArrays{Float64, 1, 1, 2, Adjoint{Float64, Matrix{Float64}}}, Vector{Float64}}(\n",
       "support: [[0.8899407677736109, 0.45440490044660464], [0.23626296028234273, 0.5216630493938976], [0.056112651189423435, 0.6896147113357662], [0.01926901054855512, 0.48691285331861867], [0.48102258741256554, 0.030132523561637203], [0.36448447828992947, 0.1923667325264109], [0.6184105884763036, 0.2657475732373833], [0.9696816801820605, 0.4970833838147404], [0.9853065450703085, 0.45639069158490164], [0.1539483408030342, 0.5474484406488385]]\n",
       "p: [0.1, 0.1, 0.1, 0.1, 0.1, 0.1, 0.1, 0.1, 0.1, 0.1]\n",
       ")\n"
      ]
     },
     "execution_count": 9,
     "metadata": {},
     "output_type": "execute_result"
    }
   ],
   "source": [
    "μ = MvDiscreteNonParametric(rand(10,2))"
   ]
  },
  {
   "cell_type": "code",
   "execution_count": 10,
   "id": "bd1daf5a-71d1-4dbc-9fe8-1dd5d94b2d9a",
   "metadata": {},
   "outputs": [
    {
     "data": {
      "text/plain": [
       "10-element Vector{Float64}:\n",
       " 0.1\n",
       " 0.1\n",
       " 0.1\n",
       " 0.1\n",
       " 0.1\n",
       " 0.1\n",
       " 0.1\n",
       " 0.1\n",
       " 0.1\n",
       " 0.1"
      ]
     },
     "execution_count": 10,
     "metadata": {},
     "output_type": "execute_result"
    }
   ],
   "source": [
    "FiniteDiscreteMeasure.support(μ)\n",
    "FiniteDiscreteMeasure.probs(μ)"
   ]
  },
  {
   "cell_type": "code",
   "execution_count": 11,
   "id": "de7ccc26-d852-4f37-a0d6-65fae71ceb36",
   "metadata": {},
   "outputs": [
    {
     "data": {
      "text/plain": [
       "FiniteDiscreteMeasure.MvDiscreteNonParametricSampler{Float64, ArrayOfSimilarArrays{Float64, 1, 1, 2, Adjoint{Float64, Matrix{Float64}}}, Distributions.AliasTable}([[0.8899407677736109, 0.45440490044660464], [0.23626296028234273, 0.5216630493938976], [0.056112651189423435, 0.6896147113357662], [0.01926901054855512, 0.48691285331861867], [0.48102258741256554, 0.030132523561637203], [0.36448447828992947, 0.1923667325264109], [0.6184105884763036, 0.2657475732373833], [0.9696816801820605, 0.4970833838147404], [0.9853065450703085, 0.45639069158490164], [0.1539483408030342, 0.5474484406488385]], AliasTable with 10 entries)"
      ]
     },
     "execution_count": 11,
     "metadata": {},
     "output_type": "execute_result"
    }
   ],
   "source": [
    "FiniteDiscreteMeasure.sampler(μ)"
   ]
  },
  {
   "cell_type": "code",
   "execution_count": 20,
   "id": "45c859e2-923d-47c1-a6aa-3ba1d294414a",
   "metadata": {},
   "outputs": [
    {
     "data": {
      "text/plain": [
       "2-element view(adjoint(::Matrix{Float64}), :, 8) with eltype Float64:\n",
       " 0.9696816801820605\n",
       " 0.4970833838147404"
      ]
     },
     "execution_count": 20,
     "metadata": {},
     "output_type": "execute_result"
    }
   ],
   "source": [
    "rand(μ)"
   ]
  },
  {
   "cell_type": "code",
   "execution_count": null,
   "id": "f076ad48-873f-4679-b813-d3adcf0d348d",
   "metadata": {},
   "outputs": [],
   "source": [
    "# DiscreteNonParametric(rand(10),ones(10)/10)"
   ]
  }
 ],
 "metadata": {
  "kernelspec": {
   "display_name": "JuliaFlux 1.6.3",
   "language": "julia",
   "name": "juliaflux-1.6"
  },
  "language_info": {
   "file_extension": ".jl",
   "mimetype": "application/julia",
   "name": "julia",
   "version": "1.6.3"
  }
 },
 "nbformat": 4,
 "nbformat_minor": 5
}
