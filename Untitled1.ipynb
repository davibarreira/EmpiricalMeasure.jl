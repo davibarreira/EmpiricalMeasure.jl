{
 "cells": [
  {
   "cell_type": "code",
   "execution_count": 79,
   "id": "bbb20f09-4d03-49a5-9142-97770f227e5d",
   "metadata": {
    "tags": []
   },
   "outputs": [
    {
     "name": "stderr",
     "output_type": "stream",
     "text": [
      "\u001b[32m\u001b[1m  Activating\u001b[22m\u001b[39m environment at `~/MEGA/EMAp/FiniteDiscreteMeasure.jl/Project.toml`\n"
     ]
    }
   ],
   "source": [
    "using Pkg\n",
    "Pkg.activate(\".\")\n",
    "\n",
    "using Revise\n",
    "using Distributions\n",
    "import Distributions\n",
    "using ArraysOfArrays\n",
    "using LinearAlgebra"
   ]
  },
  {
   "cell_type": "code",
   "execution_count": 80,
   "id": "1d779368-8782-41bc-ae23-59fa099df82e",
   "metadata": {},
   "outputs": [],
   "source": [
    "using FiniteDiscreteMeasure"
   ]
  },
  {
   "cell_type": "code",
   "execution_count": 81,
   "id": "9f5f4401-1c15-4762-bd05-fa218b93d9d6",
   "metadata": {},
   "outputs": [],
   "source": [
    "n = 4\n",
    "m = 2\n",
    "A = nestedview(rand(n,m)')\n",
    "p = normalize!(rand(n),1);"
   ]
  },
  {
   "cell_type": "code",
   "execution_count": 91,
   "id": "440f528a-31d4-4393-875b-9071fdec3b4c",
   "metadata": {},
   "outputs": [
    {
     "data": {
      "text/plain": [
       "true"
      ]
     },
     "execution_count": 91,
     "metadata": {},
     "output_type": "execute_result"
    }
   ],
   "source": [
    "typeof(rand(10,2)) <: Matrix{<:Real}"
   ]
  },
  {
   "cell_type": "code",
   "execution_count": 92,
   "id": "dddfa51a-7169-4127-a3a7-bf9b8ec6467f",
   "metadata": {},
   "outputs": [
    {
     "data": {
      "text/plain": [
       "true"
      ]
     },
     "execution_count": 92,
     "metadata": {},
     "output_type": "execute_result"
    }
   ],
   "source": [
    "A isa AbstractVector{<:AbstractVector{<:Real}}"
   ]
  },
  {
   "cell_type": "code",
   "execution_count": 93,
   "id": "a4e1757b-0068-40f1-8c7c-992a18c579de",
   "metadata": {},
   "outputs": [],
   "source": [
    "# EmpiricalDistribution{typeof(rand(10)),typeof(p)}(rand(10),p)"
   ]
  },
  {
   "cell_type": "code",
   "execution_count": 94,
   "id": "64d72cc0-fb31-4792-a94f-a4b4745821b6",
   "metadata": {},
   "outputs": [
    {
     "data": {
      "text/plain": [
       "Float64"
      ]
     },
     "execution_count": 94,
     "metadata": {},
     "output_type": "execute_result"
    }
   ],
   "source": [
    "typeof(2.0)"
   ]
  },
  {
   "cell_type": "code",
   "execution_count": 95,
   "id": "e1e9f01b-60db-47a7-980b-7cc60c310c71",
   "metadata": {},
   "outputs": [
    {
     "data": {
      "text/plain": [
       "MvDiscreteNonParametric{Float64, Float64, ArrayOfSimilarArrays{Float64, 1, 1, 2, Adjoint{Float64, Matrix{Float64}}}, Vector{Float64}}(support=[[0.9511968895857221, 0.670886164098327], [0.8562826514698727, 0.8197278373715595], [0.3973639647600815, 0.5562226103063186], [0.3168544668124116, 0.296672339966906]], p=[0.279166820034262, 0.3688355940884242, 0.020230273636936347, 0.3317673122403774])"
      ]
     },
     "execution_count": 95,
     "metadata": {},
     "output_type": "execute_result"
    }
   ],
   "source": [
    "μ = MvDiscreteNonParametric{Float64,Float64, typeof(A), typeof(p)}(A,p)"
   ]
  },
  {
   "cell_type": "code",
   "execution_count": 96,
   "id": "26b08522-7208-4856-814b-cb0895b61994",
   "metadata": {},
   "outputs": [
    {
     "data": {
      "text/plain": [
       "MvDiscreteNonParametric{Float64, Float64, ArrayOfSimilarArrays{Float64, 1, 1, 2, Adjoint{Float64, Matrix{Float64}}}, Vector{Float64}}(support=[[0.9511968895857221, 0.670886164098327], [0.8562826514698727, 0.8197278373715595], [0.3973639647600815, 0.5562226103063186], [0.3168544668124116, 0.296672339966906]], p=[0.279166820034262, 0.3688355940884242, 0.020230273636936347, 0.3317673122403774])"
      ]
     },
     "execution_count": 96,
     "metadata": {},
     "output_type": "execute_result"
    }
   ],
   "source": [
    "μ = MvDiscreteNonParametric(A,p)"
   ]
  },
  {
   "cell_type": "code",
   "execution_count": 97,
   "id": "0a104581-ddbb-4bb9-8406-4efd33415da0",
   "metadata": {},
   "outputs": [
    {
     "data": {
      "text/plain": [
       "4-element ArrayOfSimilarArrays{Float64, 1, 1, 2, Adjoint{Float64, Matrix{Float64}}}:\n",
       " [0.9511968895857221, 0.670886164098327]\n",
       " [0.8562826514698727, 0.8197278373715595]\n",
       " [0.3973639647600815, 0.5562226103063186]\n",
       " [0.3168544668124116, 0.296672339966906]"
      ]
     },
     "execution_count": 97,
     "metadata": {},
     "output_type": "execute_result"
    }
   ],
   "source": [
    "μ.support"
   ]
  },
  {
   "cell_type": "code",
   "execution_count": 98,
   "id": "03c20be3-7e47-45bd-b436-d27e20f45e05",
   "metadata": {},
   "outputs": [
    {
     "data": {
      "text/plain": [
       "MvDiscreteNonParametric{Float64, Float64, ArrayOfSimilarArrays{Float64, 1, 1, 2, Adjoint{Float64, Matrix{Float64}}}, Vector{Float64}}(support=[[0.9511968895857221, 0.670886164098327], [0.8562826514698727, 0.8197278373715595], [0.3973639647600815, 0.5562226103063186], [0.3168544668124116, 0.296672339966906]], p=[0.279166820034262, 0.3688355940884242, 0.020230273636936347, 0.3317673122403774])"
      ]
     },
     "execution_count": 98,
     "metadata": {},
     "output_type": "execute_result"
    }
   ],
   "source": [
    "discretemeasure(A,p)"
   ]
  },
  {
   "cell_type": "code",
   "execution_count": 119,
   "id": "bf59d7f9-49c0-4ae4-a0f4-8ab5cb17661a",
   "metadata": {},
   "outputs": [
    {
     "data": {
      "text/plain": [
       "0"
      ]
     },
     "execution_count": 119,
     "metadata": {},
     "output_type": "execute_result"
    }
   ],
   "source": [
    "x = 1\n",
    "\n",
    "y = x==1 ? 0 : 1"
   ]
  },
  {
   "cell_type": "code",
   "execution_count": 129,
   "id": "e6bd9498-b5c6-43ca-aa13-0620660bcaf3",
   "metadata": {},
   "outputs": [
    {
     "data": {
      "text/plain": [
       "10"
      ]
     },
     "execution_count": 129,
     "metadata": {},
     "output_type": "execute_result"
    }
   ],
   "source": [
    "size(rand(10,2))[1]"
   ]
  },
  {
   "cell_type": "code",
   "execution_count": 125,
   "id": "0a3c387b-72b2-4c8f-952d-b6022bbcfb86",
   "metadata": {},
   "outputs": [
    {
     "data": {
      "text/plain": [
       "1"
      ]
     },
     "execution_count": 125,
     "metadata": {},
     "output_type": "execute_result"
    }
   ],
   "source": [
    "function f(x,d=:ok, t = d==:ok ? 1 : 0)\n",
    "    return t\n",
    "end\n",
    "\n",
    "f(1)"
   ]
  },
  {
   "cell_type": "code",
   "execution_count": 131,
   "id": "4c7b06e0-9d87-4de0-ad4a-845068634756",
   "metadata": {},
   "outputs": [
    {
     "data": {
      "text/plain": [
       "10×2 Matrix{Float64}:\n",
       " 0.418028   0.7392\n",
       " 0.55308    0.680653\n",
       " 0.365282   0.0663293\n",
       " 0.529701   0.387037\n",
       " 0.995054   0.556896\n",
       " 0.397513   0.405722\n",
       " 0.839634   0.575466\n",
       " 0.659113   0.981657\n",
       " 0.788552   0.923457\n",
       " 0.0969745  0.245642"
      ]
     },
     "execution_count": 131,
     "metadata": {},
     "output_type": "execute_result"
    }
   ],
   "source": [
    "a = rand(10,2)\n",
    "\n",
    "# MvDiscreteNonParametric(MvDiscreteNonParametric(rand(10,2)))"
   ]
  },
  {
   "cell_type": "code",
   "execution_count": 99,
   "id": "0378daad-431f-4d01-8ffb-63541c288590",
   "metadata": {},
   "outputs": [
    {
     "data": {
      "text/plain": [
       "Float64"
      ]
     },
     "execution_count": 99,
     "metadata": {},
     "output_type": "execute_result"
    }
   ],
   "source": [
    "eltype(eltype(A))"
   ]
  },
  {
   "cell_type": "code",
   "execution_count": 25,
   "id": "e7db0b9b-60d6-420b-9905-fe44e7ac3f8f",
   "metadata": {},
   "outputs": [],
   "source": [
    "# eltype(μ)"
   ]
  }
 ],
 "metadata": {
  "kernelspec": {
   "display_name": "JuliaFlux 1.6.3",
   "language": "julia",
   "name": "juliaflux-1.6"
  },
  "language_info": {
   "file_extension": ".jl",
   "mimetype": "application/julia",
   "name": "julia",
   "version": "1.6.3"
  }
 },
 "nbformat": 4,
 "nbformat_minor": 5
}
