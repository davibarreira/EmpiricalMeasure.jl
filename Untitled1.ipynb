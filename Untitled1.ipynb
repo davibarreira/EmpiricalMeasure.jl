{
 "cells": [
  {
   "cell_type": "code",
   "execution_count": 1,
   "id": "bbb20f09-4d03-49a5-9142-97770f227e5d",
   "metadata": {
    "tags": []
   },
   "outputs": [
    {
     "name": "stderr",
     "output_type": "stream",
     "text": [
      "\u001b[32m\u001b[1m  Activating\u001b[22m\u001b[39m environment at `~/MEGA/EMAp/FiniteDiscreteMeasure.jl/Project.toml`\n"
     ]
    }
   ],
   "source": [
    "using Pkg\n",
    "Pkg.activate(\".\")\n",
    "\n",
    "using Revise\n",
    "# using Distributions\n",
    "# import Distributions\n",
    "using ArraysOfArrays\n",
    "using LinearAlgebra\n",
    "using Random"
   ]
  },
  {
   "cell_type": "code",
   "execution_count": 2,
   "id": "1d779368-8782-41bc-ae23-59fa099df82e",
   "metadata": {},
   "outputs": [
    {
     "name": "stderr",
     "output_type": "stream",
     "text": [
      "┌ Info: Precompiling FiniteDiscreteMeasure [97815211-d2e1-4849-9c09-28728ec73e5e]\n",
      "└ @ Base loading.jl:1342\n"
     ]
    }
   ],
   "source": [
    "using FiniteDiscreteMeasure"
   ]
  },
  {
   "cell_type": "code",
   "execution_count": 3,
   "id": "9f5f4401-1c15-4762-bd05-fa218b93d9d6",
   "metadata": {},
   "outputs": [],
   "source": [
    "n = 4\n",
    "m = 2\n",
    "A = nestedview(rand(n,m)')\n",
    "p = normalize!(rand(n),1);"
   ]
  },
  {
   "cell_type": "code",
   "execution_count": 4,
   "id": "e1e9f01b-60db-47a7-980b-7cc60c310c71",
   "metadata": {},
   "outputs": [
    {
     "data": {
      "text/plain": [
       "MvDiscreteNonParametric{Float64, Float64, ArrayOfSimilarArrays{Float64, 1, 1, 2, Adjoint{Float64, Matrix{Float64}}}, Vector{Float64}}(support=[[0.1549256770439682, 0.7282231031918123], [0.9001704255140004, 0.0925660614531092], [0.44646260499281376, 0.20161952395787663], [0.8160346892583519, 0.9596489934139718]], p=[0.03491887161146533, 0.03276915513115811, 0.5011866403527487, 0.4311253329046278])"
      ]
     },
     "execution_count": 4,
     "metadata": {},
     "output_type": "execute_result"
    }
   ],
   "source": [
    "μ = MvDiscreteNonParametric{Float64,Float64, typeof(A), typeof(p)}(A,p)"
   ]
  },
  {
   "cell_type": "code",
   "execution_count": 36,
   "id": "c921d360-5e3d-4fc5-a7b7-a03fdf8a8e60",
   "metadata": {},
   "outputs": [
    {
     "data": {
      "text/plain": [
       "2"
      ]
     },
     "execution_count": 36,
     "metadata": {},
     "output_type": "execute_result"
    }
   ],
   "source": [
    "length(μ)"
   ]
  },
  {
   "cell_type": "code",
   "execution_count": 37,
   "id": "26b08522-7208-4856-814b-cb0895b61994",
   "metadata": {},
   "outputs": [
    {
     "data": {
      "text/plain": [
       "MvDiscreteNonParametric{Float64, Float64, ArrayOfSimilarArrays{Float64, 1, 1, 2, Adjoint{Float64, Matrix{Float64}}}, Vector{Float64}}(support=[[0.1549256770439682, 0.7282231031918123], [0.9001704255140004, 0.0925660614531092], [0.44646260499281376, 0.20161952395787663], [0.8160346892583519, 0.9596489934139718]], p=[0.03491887161146533, 0.03276915513115811, 0.5011866403527487, 0.4311253329046278])"
      ]
     },
     "execution_count": 37,
     "metadata": {},
     "output_type": "execute_result"
    }
   ],
   "source": [
    "μ = MvDiscreteNonParametric(A,p)"
   ]
  },
  {
   "cell_type": "code",
   "execution_count": 38,
   "id": "03c20be3-7e47-45bd-b436-d27e20f45e05",
   "metadata": {},
   "outputs": [
    {
     "data": {
      "text/plain": [
       "MvDiscreteNonParametric{Float64, Float64, ArrayOfSimilarArrays{Float64, 1, 1, 2, Adjoint{Float64, Matrix{Float64}}}, Vector{Float64}}(support=[[0.1549256770439682, 0.7282231031918123], [0.9001704255140004, 0.0925660614531092], [0.44646260499281376, 0.20161952395787663], [0.8160346892583519, 0.9596489934139718]], p=[0.03491887161146533, 0.03276915513115811, 0.5011866403527487, 0.4311253329046278])"
      ]
     },
     "execution_count": 38,
     "metadata": {},
     "output_type": "execute_result"
    }
   ],
   "source": [
    "μ = discretemeasure(A,p)"
   ]
  },
  {
   "cell_type": "code",
   "execution_count": 39,
   "id": "170101da-e103-44e2-ada1-6532f3fd2978",
   "metadata": {},
   "outputs": [
    {
     "data": {
      "text/plain": [
       "MvDiscreteNonParametric{Float64, Float64, ArrayOfSimilarArrays{Float64, 1, 1, 2, Adjoint{Float64, Matrix{Float64}}}, Vector{Float64}}(\n",
       "support: [[0.1667226089820657, 0.027535050159173347], [0.6299580283130963, 0.7897133757238621], [0.8747384974144514, 0.7918692926361122], [0.590659273114805, 0.34598326604937424], [0.30880586472856786, 0.5902443362679157], [0.2948077120670636, 0.3101763611468751], [0.2900938607241721, 0.8599087808646277], [0.2618535088267302, 0.11820574738699507], [0.020025803728828118, 0.14453876210900773], [0.785246077692898, 0.10348008885132409]]\n",
       "p: [0.1, 0.1, 0.1, 0.1, 0.1, 0.1, 0.1, 0.1, 0.1, 0.1]\n",
       ")\n"
      ]
     },
     "execution_count": 39,
     "metadata": {},
     "output_type": "execute_result"
    }
   ],
   "source": [
    "μ = MvDiscreteNonParametric(rand(10,2))"
   ]
  },
  {
   "cell_type": "code",
   "execution_count": 40,
   "id": "bd1daf5a-71d1-4dbc-9fe8-1dd5d94b2d9a",
   "metadata": {},
   "outputs": [
    {
     "data": {
      "text/plain": [
       "10-element Vector{Float64}:\n",
       " 0.1\n",
       " 0.1\n",
       " 0.1\n",
       " 0.1\n",
       " 0.1\n",
       " 0.1\n",
       " 0.1\n",
       " 0.1\n",
       " 0.1\n",
       " 0.1"
      ]
     },
     "execution_count": 40,
     "metadata": {},
     "output_type": "execute_result"
    }
   ],
   "source": [
    "FiniteDiscreteMeasure.support(μ)\n",
    "FiniteDiscreteMeasure.probs(μ)"
   ]
  },
  {
   "cell_type": "code",
   "execution_count": 41,
   "id": "de7ccc26-d852-4f37-a0d6-65fae71ceb36",
   "metadata": {},
   "outputs": [
    {
     "data": {
      "text/plain": [
       "MvDiscreteNonParametricSampler{Float64, ArrayOfSimilarArrays{Float64, 1, 1, 2, Adjoint{Float64, Matrix{Float64}}}, Distributions.AliasTable}([[0.1667226089820657, 0.027535050159173347], [0.6299580283130963, 0.7897133757238621], [0.8747384974144514, 0.7918692926361122], [0.590659273114805, 0.34598326604937424], [0.30880586472856786, 0.5902443362679157], [0.2948077120670636, 0.3101763611468751], [0.2900938607241721, 0.8599087808646277], [0.2618535088267302, 0.11820574738699507], [0.020025803728828118, 0.14453876210900773], [0.785246077692898, 0.10348008885132409]], AliasTable with 10 entries)"
      ]
     },
     "execution_count": 41,
     "metadata": {},
     "output_type": "execute_result"
    }
   ],
   "source": [
    "s = FiniteDiscreteMeasure.sampler(μ)"
   ]
  },
  {
   "cell_type": "code",
   "execution_count": 42,
   "id": "c090f46d-5c5b-414e-b2f9-7660bb81566e",
   "metadata": {},
   "outputs": [],
   "source": [
    "rng = MersenneTwister(1234);\n",
    "# FiniteDiscreteMeasure.rand(rng,s)\n",
    "# FiniteDiscreteMeasure._rand!(rng,s,ones(10))\n",
    "# typeof(s) <: MvDiscreteNonParametricSampler"
   ]
  },
  {
   "cell_type": "code",
   "execution_count": 73,
   "id": "ec66b834-736c-490f-806e-1270ded97c0d",
   "metadata": {},
   "outputs": [
    {
     "data": {
      "text/plain": [
       "10-element ArrayOfSimilarArrays{Float64, 1, 1, 2, Adjoint{Float64, Matrix{Float64}}}:\n",
       " [0.1667226089820657, 0.027535050159173347]\n",
       " [0.6299580283130963, 0.7897133757238621]\n",
       " [0.8747384974144514, 0.7918692926361122]\n",
       " [0.590659273114805, 0.34598326604937424]\n",
       " [0.30880586472856786, 0.5902443362679157]\n",
       " [0.2948077120670636, 0.3101763611468751]\n",
       " [0.2900938607241721, 0.8599087808646277]\n",
       " [0.2618535088267302, 0.11820574738699507]\n",
       " [0.020025803728828118, 0.14453876210900773]\n",
       " [0.785246077692898, 0.10348008885132409]"
      ]
     },
     "execution_count": 73,
     "metadata": {},
     "output_type": "execute_result"
    }
   ],
   "source": [
    "μ.support"
   ]
  },
  {
   "cell_type": "code",
   "execution_count": 96,
   "id": "45c859e2-923d-47c1-a6aa-3ba1d294414a",
   "metadata": {},
   "outputs": [
    {
     "data": {
      "text/plain": [
       "2×10 Matrix{Int64}:\n",
       " 0  1  1  0  1  1  1  1  0  0\n",
       " 0  1  1  0  1  1  1  1  0  0"
      ]
     },
     "execution_count": 96,
     "metadata": {},
     "output_type": "execute_result"
    }
   ],
   "source": [
    "μ = MvDiscreteNonParametric([0 0;1 1])\n",
    "rand(μ,10)"
   ]
  }
 ],
 "metadata": {
  "kernelspec": {
   "display_name": "JuliaFlux 1.6.3",
   "language": "julia",
   "name": "juliaflux-1.6"
  },
  "language_info": {
   "file_extension": ".jl",
   "mimetype": "application/julia",
   "name": "julia",
   "version": "1.6.3"
  }
 },
 "nbformat": 4,
 "nbformat_minor": 5
}
