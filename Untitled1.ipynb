{
 "cells": [
  {
   "cell_type": "code",
   "execution_count": 52,
   "id": "bbb20f09-4d03-49a5-9142-97770f227e5d",
   "metadata": {
    "tags": []
   },
   "outputs": [
    {
     "name": "stderr",
     "output_type": "stream",
     "text": [
      "\u001b[32m\u001b[1m  Activating\u001b[22m\u001b[39m environment at `~/MEGA/EMAp/FiniteDiscreteMeasure.jl/Project.toml`\n"
     ]
    }
   ],
   "source": [
    "using Pkg\n",
    "Pkg.activate(\".\")\n",
    "\n",
    "using Revise\n",
    "# using Distributions\n",
    "# import Distributions\n",
    "using ArraysOfArrays\n",
    "using LinearAlgebra\n",
    "using Random"
   ]
  },
  {
   "cell_type": "code",
   "execution_count": 53,
   "id": "1d779368-8782-41bc-ae23-59fa099df82e",
   "metadata": {},
   "outputs": [],
   "source": [
    "using FiniteDiscreteMeasure"
   ]
  },
  {
   "cell_type": "code",
   "execution_count": 28,
   "id": "9f5f4401-1c15-4762-bd05-fa218b93d9d6",
   "metadata": {},
   "outputs": [],
   "source": [
    "n = 4\n",
    "m = 2\n",
    "A = nestedview(rand(n,m)')\n",
    "p = normalize!(rand(n),1);"
   ]
  },
  {
   "cell_type": "code",
   "execution_count": 29,
   "id": "dddfa51a-7169-4127-a3a7-bf9b8ec6467f",
   "metadata": {},
   "outputs": [
    {
     "data": {
      "text/plain": [
       "true"
      ]
     },
     "execution_count": 29,
     "metadata": {},
     "output_type": "execute_result"
    }
   ],
   "source": [
    "A isa AbstractVector{<:AbstractVector{<:Real}}"
   ]
  },
  {
   "cell_type": "code",
   "execution_count": 30,
   "id": "e1e9f01b-60db-47a7-980b-7cc60c310c71",
   "metadata": {},
   "outputs": [
    {
     "data": {
      "text/plain": [
       "MvDiscreteNonParametric{Float64, Float64, ArrayOfSimilarArrays{Float64, 1, 1, 2, Adjoint{Float64, Matrix{Float64}}}, Vector{Float64}}(support=[[0.7190086090382286, 0.287541204951522], [0.4938149717383422, 0.17686929614089397], [0.4647742982148495, 0.17587807307713632], [0.8765462731631559, 0.4884030935403667]], p=[0.01662284765428333, 0.13853219735675668, 0.40954476159587677, 0.4353001933930832])"
      ]
     },
     "execution_count": 30,
     "metadata": {},
     "output_type": "execute_result"
    }
   ],
   "source": [
    "μ = MvDiscreteNonParametric{Float64,Float64, typeof(A), typeof(p)}(A,p)"
   ]
  },
  {
   "cell_type": "code",
   "execution_count": 31,
   "id": "26b08522-7208-4856-814b-cb0895b61994",
   "metadata": {},
   "outputs": [
    {
     "data": {
      "text/plain": [
       "MvDiscreteNonParametric{Float64, Float64, ArrayOfSimilarArrays{Float64, 1, 1, 2, Adjoint{Float64, Matrix{Float64}}}, Vector{Float64}}(support=[[0.7190086090382286, 0.287541204951522], [0.4938149717383422, 0.17686929614089397], [0.4647742982148495, 0.17587807307713632], [0.8765462731631559, 0.4884030935403667]], p=[0.01662284765428333, 0.13853219735675668, 0.40954476159587677, 0.4353001933930832])"
      ]
     },
     "execution_count": 31,
     "metadata": {},
     "output_type": "execute_result"
    }
   ],
   "source": [
    "μ = MvDiscreteNonParametric(A,p)"
   ]
  },
  {
   "cell_type": "code",
   "execution_count": 32,
   "id": "03c20be3-7e47-45bd-b436-d27e20f45e05",
   "metadata": {},
   "outputs": [
    {
     "data": {
      "text/plain": [
       "MvDiscreteNonParametric{Float64, Float64, ArrayOfSimilarArrays{Float64, 1, 1, 2, Adjoint{Float64, Matrix{Float64}}}, Vector{Float64}}(support=[[0.7190086090382286, 0.287541204951522], [0.4938149717383422, 0.17686929614089397], [0.4647742982148495, 0.17587807307713632], [0.8765462731631559, 0.4884030935403667]], p=[0.01662284765428333, 0.13853219735675668, 0.40954476159587677, 0.4353001933930832])"
      ]
     },
     "execution_count": 32,
     "metadata": {},
     "output_type": "execute_result"
    }
   ],
   "source": [
    "μ = discretemeasure(A,p)"
   ]
  },
  {
   "cell_type": "code",
   "execution_count": 51,
   "id": "170101da-e103-44e2-ada1-6532f3fd2978",
   "metadata": {},
   "outputs": [
    {
     "data": {
      "text/plain": [
       "MvDiscreteNonParametric{Float64, Float64, ArrayOfSimilarArrays{Float64, 1, 1, 2, Adjoint{Float64, Matrix{Float64}}}, Vector{Float64}}(\n",
       "support: [[0.3948611598856191, 0.2437839512836273], [0.07862324789531216, 0.7013942084117735], [0.729938763480305, 0.13368170981023852], [0.26369391505349804, 0.8594346066547698], [0.5100795294281983, 0.3564514406178614], [0.20347098709460343, 0.28164790088323577], [0.2975819468802605, 0.7591049609913061], [0.8374686250904488, 0.25651744950102073], [0.9035687709266613, 0.13397752285575515], [0.42838029557534196, 0.705728795108433]]\n",
       "p: [0.1, 0.1, 0.1, 0.1, 0.1, 0.1, 0.1, 0.1, 0.1, 0.1]\n",
       ")\n"
      ]
     },
     "execution_count": 51,
     "metadata": {},
     "output_type": "execute_result"
    }
   ],
   "source": [
    "μ = MvDiscreteNonParametric(rand(10,2))"
   ]
  },
  {
   "cell_type": "code",
   "execution_count": 34,
   "id": "bd1daf5a-71d1-4dbc-9fe8-1dd5d94b2d9a",
   "metadata": {},
   "outputs": [
    {
     "data": {
      "text/plain": [
       "10-element Vector{Float64}:\n",
       " 0.1\n",
       " 0.1\n",
       " 0.1\n",
       " 0.1\n",
       " 0.1\n",
       " 0.1\n",
       " 0.1\n",
       " 0.1\n",
       " 0.1\n",
       " 0.1"
      ]
     },
     "execution_count": 34,
     "metadata": {},
     "output_type": "execute_result"
    }
   ],
   "source": [
    "FiniteDiscreteMeasure.support(μ)\n",
    "FiniteDiscreteMeasure.probs(μ)"
   ]
  },
  {
   "cell_type": "code",
   "execution_count": 35,
   "id": "de7ccc26-d852-4f37-a0d6-65fae71ceb36",
   "metadata": {},
   "outputs": [
    {
     "data": {
      "text/plain": [
       "FiniteDiscreteMeasure.MvDiscreteNonParametricSampler{Float64, ArrayOfSimilarArrays{Float64, 1, 1, 2, Adjoint{Float64, Matrix{Float64}}}, Distributions.AliasTable}([[0.9910054003112578, 0.8992920863752181], [0.26581825695543526, 0.9977870033666316], [0.2357056584143593, 0.8900219838655037], [0.08503587136960045, 0.4741228804511215], [0.6674479401937767, 0.5725162392220344], [0.33077034024572227, 0.40999237070618477], [0.7110242273149754, 0.27712767910060787], [0.9987458369061566, 0.8651843140114794], [0.6459424037721078, 0.3379396062913784], [0.5280477128077601, 0.13353847306445132]], AliasTable with 10 entries)"
      ]
     },
     "execution_count": 35,
     "metadata": {},
     "output_type": "execute_result"
    }
   ],
   "source": [
    "FiniteDiscreteMeasure.sampler(μ)"
   ]
  },
  {
   "cell_type": "code",
   "execution_count": 45,
   "id": "11432eeb-9892-4969-9659-47fd0e7377b6",
   "metadata": {},
   "outputs": [],
   "source": [
    "rng = MersenneTwister(1234);\n",
    "# rand(μ,1)"
   ]
  },
  {
   "cell_type": "code",
   "execution_count": 48,
   "id": "2d2ef8bb-4dfe-4f80-a34b-40829e3cbee5",
   "metadata": {},
   "outputs": [
    {
     "data": {
      "text/plain": [
       "4"
      ]
     },
     "execution_count": 48,
     "metadata": {},
     "output_type": "execute_result"
    }
   ],
   "source": [
    "length(A)"
   ]
  },
  {
   "cell_type": "code",
   "execution_count": 50,
   "id": "f076ad48-873f-4679-b813-d3adcf0d348d",
   "metadata": {},
   "outputs": [],
   "source": [
    "# DiscreteNonParametric(rand(10),ones(10)/10)"
   ]
  }
 ],
 "metadata": {
  "kernelspec": {
   "display_name": "JuliaFlux 1.6.3",
   "language": "julia",
   "name": "juliaflux-1.6"
  },
  "language_info": {
   "file_extension": ".jl",
   "mimetype": "application/julia",
   "name": "julia",
   "version": "1.6.3"
  }
 },
 "nbformat": 4,
 "nbformat_minor": 5
}
