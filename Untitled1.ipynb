{
 "cells": [
  {
   "cell_type": "code",
   "execution_count": 1,
   "id": "bbb20f09-4d03-49a5-9142-97770f227e5d",
   "metadata": {
    "tags": []
   },
   "outputs": [
    {
     "name": "stderr",
     "output_type": "stream",
     "text": [
      "\u001b[32m\u001b[1m  Activating\u001b[22m\u001b[39m environment at `~/MEGA/EMAp/FiniteDiscreteMeasure.jl/Project.toml`\n"
     ]
    }
   ],
   "source": [
    "using Pkg\n",
    "Pkg.activate(\".\")\n",
    "\n",
    "using Revise\n",
    "# using Distributions\n",
    "# import Distributions\n",
    "using ArraysOfArrays\n",
    "using LinearAlgebra\n",
    "using Random"
   ]
  },
  {
   "cell_type": "code",
   "execution_count": 2,
   "id": "1d779368-8782-41bc-ae23-59fa099df82e",
   "metadata": {},
   "outputs": [
    {
     "name": "stderr",
     "output_type": "stream",
     "text": [
      "┌ Info: Precompiling FiniteDiscreteMeasure [97815211-d2e1-4849-9c09-28728ec73e5e]\n",
      "└ @ Base loading.jl:1342\n"
     ]
    }
   ],
   "source": [
    "using FiniteDiscreteMeasure"
   ]
  },
  {
   "cell_type": "code",
   "execution_count": 3,
   "id": "9f5f4401-1c15-4762-bd05-fa218b93d9d6",
   "metadata": {},
   "outputs": [],
   "source": [
    "n = 4\n",
    "m = 2\n",
    "A = nestedview(rand(n,m)')\n",
    "p = normalize!(rand(n),1);"
   ]
  },
  {
   "cell_type": "code",
   "execution_count": 4,
   "id": "dddfa51a-7169-4127-a3a7-bf9b8ec6467f",
   "metadata": {},
   "outputs": [
    {
     "data": {
      "text/plain": [
       "true"
      ]
     },
     "execution_count": 4,
     "metadata": {},
     "output_type": "execute_result"
    }
   ],
   "source": [
    "A isa AbstractVector{<:AbstractVector{<:Real}}"
   ]
  },
  {
   "cell_type": "code",
   "execution_count": 5,
   "id": "e1e9f01b-60db-47a7-980b-7cc60c310c71",
   "metadata": {},
   "outputs": [
    {
     "data": {
      "text/plain": [
       "MvDiscreteNonParametric{Float64, Float64, ArrayOfSimilarArrays{Float64, 1, 1, 2, Adjoint{Float64, Matrix{Float64}}}, Vector{Float64}}(support=[[0.05842757982715652, 0.4462485187809768], [0.009466840191388659, 0.06474767912970192], [0.6830248278923425, 0.7151750602786597], [0.9157426562292459, 0.7936065026684269]], p=[0.28631750004345896, 0.35628708743870663, 0.3403028466546425, 0.017092565863191876])"
      ]
     },
     "execution_count": 5,
     "metadata": {},
     "output_type": "execute_result"
    }
   ],
   "source": [
    "μ = MvDiscreteNonParametric{Float64,Float64, typeof(A), typeof(p)}(A,p)"
   ]
  },
  {
   "cell_type": "code",
   "execution_count": 6,
   "id": "c921d360-5e3d-4fc5-a7b7-a03fdf8a8e60",
   "metadata": {},
   "outputs": [
    {
     "data": {
      "text/plain": [
       "4"
      ]
     },
     "execution_count": 6,
     "metadata": {},
     "output_type": "execute_result"
    }
   ],
   "source": [
    "length(μ)"
   ]
  },
  {
   "cell_type": "code",
   "execution_count": null,
   "id": "26b08522-7208-4856-814b-cb0895b61994",
   "metadata": {},
   "outputs": [],
   "source": [
    "μ = MvDiscreteNonParametric(A,p)"
   ]
  },
  {
   "cell_type": "code",
   "execution_count": null,
   "id": "03c20be3-7e47-45bd-b436-d27e20f45e05",
   "metadata": {},
   "outputs": [],
   "source": [
    "μ = discretemeasure(A,p)"
   ]
  },
  {
   "cell_type": "code",
   "execution_count": null,
   "id": "170101da-e103-44e2-ada1-6532f3fd2978",
   "metadata": {},
   "outputs": [],
   "source": [
    "μ = MvDiscreteNonParametric(rand(10,2))"
   ]
  },
  {
   "cell_type": "code",
   "execution_count": null,
   "id": "bd1daf5a-71d1-4dbc-9fe8-1dd5d94b2d9a",
   "metadata": {},
   "outputs": [],
   "source": [
    "FiniteDiscreteMeasure.support(μ)\n",
    "FiniteDiscreteMeasure.probs(μ)"
   ]
  },
  {
   "cell_type": "code",
   "execution_count": null,
   "id": "de7ccc26-d852-4f37-a0d6-65fae71ceb36",
   "metadata": {},
   "outputs": [],
   "source": [
    "FiniteDiscreteMeasure.sampler(μ)"
   ]
  },
  {
   "cell_type": "code",
   "execution_count": null,
   "id": "11432eeb-9892-4969-9659-47fd0e7377b6",
   "metadata": {},
   "outputs": [],
   "source": [
    "rng = MersenneTwister(1234);\n",
    "# rand(μ,1)"
   ]
  },
  {
   "cell_type": "code",
   "execution_count": null,
   "id": "2d2ef8bb-4dfe-4f80-a34b-40829e3cbee5",
   "metadata": {},
   "outputs": [],
   "source": [
    "length(A)"
   ]
  },
  {
   "cell_type": "code",
   "execution_count": null,
   "id": "f076ad48-873f-4679-b813-d3adcf0d348d",
   "metadata": {},
   "outputs": [],
   "source": [
    "# DiscreteNonParametric(rand(10),ones(10)/10)"
   ]
  }
 ],
 "metadata": {
  "kernelspec": {
   "display_name": "JuliaFlux 1.6.3",
   "language": "julia",
   "name": "juliaflux-1.6"
  },
  "language_info": {
   "file_extension": ".jl",
   "mimetype": "application/julia",
   "name": "julia",
   "version": "1.6.3"
  }
 },
 "nbformat": 4,
 "nbformat_minor": 5
}
