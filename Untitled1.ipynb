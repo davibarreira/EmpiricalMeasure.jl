{
 "cells": [
  {
   "cell_type": "code",
   "execution_count": 8,
   "id": "bbb20f09-4d03-49a5-9142-97770f227e5d",
   "metadata": {
    "tags": []
   },
   "outputs": [
    {
     "name": "stderr",
     "output_type": "stream",
     "text": [
      "\u001b[32m\u001b[1m  Activating\u001b[22m\u001b[39m environment at `~/MEGA/EMAp/FiniteDiscreteMeasure.jl/Project.toml`\n"
     ]
    }
   ],
   "source": [
    "using Pkg\n",
    "Pkg.activate(\".\")\n",
    "\n",
    "using Revise\n",
    "using Distributions\n",
    "import Distributions\n",
    "using ArraysOfArrays\n",
    "using LinearAlgebra"
   ]
  },
  {
   "cell_type": "code",
   "execution_count": 68,
   "id": "1d779368-8782-41bc-ae23-59fa099df82e",
   "metadata": {},
   "outputs": [],
   "source": [
    "using FiniteDiscreteMeasure"
   ]
  },
  {
   "cell_type": "code",
   "execution_count": 69,
   "id": "9f5f4401-1c15-4762-bd05-fa218b93d9d6",
   "metadata": {},
   "outputs": [],
   "source": [
    "n = 4\n",
    "m = 2\n",
    "A = nestedview(rand(n,m)')\n",
    "p = normalize!(rand(n),1);"
   ]
  },
  {
   "cell_type": "code",
   "execution_count": 70,
   "id": "dddfa51a-7169-4127-a3a7-bf9b8ec6467f",
   "metadata": {},
   "outputs": [
    {
     "data": {
      "text/plain": [
       "true"
      ]
     },
     "execution_count": 70,
     "metadata": {},
     "output_type": "execute_result"
    }
   ],
   "source": [
    "A isa AbstractVector{<:AbstractVector{<:Real}}"
   ]
  },
  {
   "cell_type": "code",
   "execution_count": 71,
   "id": "a4e1757b-0068-40f1-8c7c-992a18c579de",
   "metadata": {},
   "outputs": [],
   "source": [
    "# EmpiricalDistribution{typeof(rand(10)),typeof(p)}(rand(10),p)"
   ]
  },
  {
   "cell_type": "code",
   "execution_count": 72,
   "id": "64d72cc0-fb31-4792-a94f-a4b4745821b6",
   "metadata": {},
   "outputs": [
    {
     "data": {
      "text/plain": [
       "Float64"
      ]
     },
     "execution_count": 72,
     "metadata": {},
     "output_type": "execute_result"
    }
   ],
   "source": [
    "typeof(2.0)"
   ]
  },
  {
   "cell_type": "code",
   "execution_count": 73,
   "id": "e1e9f01b-60db-47a7-980b-7cc60c310c71",
   "metadata": {},
   "outputs": [
    {
     "data": {
      "text/plain": [
       "MvDiscreteNonParametric{Float64, Float64, ArrayOfSimilarArrays{Float64, 1, 1, 2, Adjoint{Float64, Matrix{Float64}}}, Vector{Float64}}(support=[[0.773234103326097, 0.21313606131900587], [0.7413223009739607, 0.583822316635654], [0.07617397926193825, 0.4260198875575363], [0.9847098917648733, 0.7882476823953115]], p=[0.009414425896734451, 0.38891487752817544, 0.5480339241789917, 0.05363677239609858])"
      ]
     },
     "execution_count": 73,
     "metadata": {},
     "output_type": "execute_result"
    }
   ],
   "source": [
    "μ = MvDiscreteNonParametric{Float64,Float64, typeof(A), typeof(p)}(A,p)"
   ]
  },
  {
   "cell_type": "code",
   "execution_count": 77,
   "id": "26b08522-7208-4856-814b-cb0895b61994",
   "metadata": {},
   "outputs": [
    {
     "data": {
      "text/plain": [
       "MvDiscreteNonParametric{Float64, Float64, ArrayOfSimilarArrays{Float64, 1, 1, 2, Adjoint{Float64, Matrix{Float64}}}, Vector{Float64}}(support=[[0.773234103326097, 0.21313606131900587], [0.7413223009739607, 0.583822316635654], [0.07617397926193825, 0.4260198875575363], [0.9847098917648733, 0.7882476823953115]], p=[0.009414425896734451, 0.38891487752817544, 0.5480339241789917, 0.05363677239609858])"
      ]
     },
     "execution_count": 77,
     "metadata": {},
     "output_type": "execute_result"
    }
   ],
   "source": [
    "μ = MvDiscreteNonParametric(A,p)"
   ]
  },
  {
   "cell_type": "code",
   "execution_count": 75,
   "id": "0a104581-ddbb-4bb9-8406-4efd33415da0",
   "metadata": {},
   "outputs": [
    {
     "data": {
      "text/plain": [
       "4-element ArrayOfSimilarArrays{Float64, 1, 1, 2, Adjoint{Float64, Matrix{Float64}}}:\n",
       " [0.773234103326097, 0.21313606131900587]\n",
       " [0.7413223009739607, 0.583822316635654]\n",
       " [0.07617397926193825, 0.4260198875575363]\n",
       " [0.9847098917648733, 0.7882476823953115]"
      ]
     },
     "execution_count": 75,
     "metadata": {},
     "output_type": "execute_result"
    }
   ],
   "source": [
    "μ.support"
   ]
  },
  {
   "cell_type": "code",
   "execution_count": 76,
   "id": "03c20be3-7e47-45bd-b436-d27e20f45e05",
   "metadata": {},
   "outputs": [
    {
     "data": {
      "text/plain": [
       "MvDiscreteNonParametric{Float64, Float64, ArrayOfSimilarArrays{Float64, 1, 1, 2, Adjoint{Float64, Matrix{Float64}}}, Vector{Float64}}(support=[[0.773234103326097, 0.21313606131900587], [0.7413223009739607, 0.583822316635654], [0.07617397926193825, 0.4260198875575363], [0.9847098917648733, 0.7882476823953115]], p=[0.009414425896734451, 0.38891487752817544, 0.5480339241789917, 0.05363677239609858])"
      ]
     },
     "execution_count": 76,
     "metadata": {},
     "output_type": "execute_result"
    }
   ],
   "source": [
    "discretemeasure(A,p)"
   ]
  },
  {
   "cell_type": "code",
   "execution_count": 39,
   "id": "0378daad-431f-4d01-8ffb-63541c288590",
   "metadata": {},
   "outputs": [
    {
     "data": {
      "text/plain": [
       "Float64"
      ]
     },
     "execution_count": 39,
     "metadata": {},
     "output_type": "execute_result"
    }
   ],
   "source": [
    "eltype(eltype(A))"
   ]
  },
  {
   "cell_type": "code",
   "execution_count": 25,
   "id": "e7db0b9b-60d6-420b-9905-fe44e7ac3f8f",
   "metadata": {},
   "outputs": [],
   "source": [
    "# eltype(μ)"
   ]
  }
 ],
 "metadata": {
  "kernelspec": {
   "display_name": "JuliaFlux 1.6.3",
   "language": "julia",
   "name": "juliaflux-1.6"
  },
  "language_info": {
   "file_extension": ".jl",
   "mimetype": "application/julia",
   "name": "julia",
   "version": "1.6.3"
  }
 },
 "nbformat": 4,
 "nbformat_minor": 5
}
